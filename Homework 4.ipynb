{
 "cells": [
  {
   "cell_type": "code",
   "execution_count": null,
   "id": "a608f1ff-32e4-4910-9e95-19c774cdfad1",
   "metadata": {},
   "outputs": [
    {
     "name": "stdin",
     "output_type": "stream",
     "text": [
      "Введите команду:\n",
      " p\n",
      "Введите номер документа: \n",
      " 11-2\n"
     ]
    },
    {
     "name": "stdout",
     "output_type": "stream",
     "text": [
      "Геннадий Покемонов\n"
     ]
    },
    {
     "name": "stdin",
     "output_type": "stream",
     "text": [
      "Введите команду:\n",
      " 1\n"
     ]
    }
   ],
   "source": [
    "#Homework 4. Task 1:\n",
    "#Вам нужно помочь секретарю автоматизировать работу. Для этого нужно написать программу, которая будет на основе хранимых данных исполнять \n",
    "#пользовательские команды.\n",
    "#Исходные данные имеют следующую структуру:\n",
    "#1. перечень всех документов\n",
    "\n",
    "documents = [\n",
    " {'type': 'passport', 'number': '2207 876234', 'name': 'Василий Гупкин'},\n",
    " {'type': 'invoice', 'number': '11-2', 'name': 'Геннадий Покемонов'},\n",
    " {'type': 'insurance', 'number': '10006', 'name': 'Аристарх Павлов'}\n",
    "]\n",
    "\n",
    "#2. перечень полок, на которых хранятся документы (если документ есть в documents, он обязательно должен быть и в directories)\n",
    "\n",
    "directories = {\n",
    " '1': ['2207 876234', '11-2'],\n",
    " '2': ['10006'],\n",
    " '3': []\n",
    "}\n",
    "#Общие требования к программе:\n",
    "#● код должен быть грамотно декомпозирован: каждая функция отвечает за свою конкретную задачу, дублирующиеся функции переиспользуются, а их код не повторяется;\n",
    "#● в коде отсутствуют глобальные переменные, за исключением documents и directories;\n",
    "#● пользовательский ввод обрабатывается в цикле while до тех пор, пока пользователь явно не завершит программу вводом команды «q».\n",
    "\n",
    "#Задание 1\n",
    "#Пользователь по команде «p» может узнать владельца документа по его номеру.\n",
    "#Пример работы программы:\n",
    "#Введите команду:\n",
    "#p\n",
    "#Введите номер документа:\n",
    "#10006\n",
    "#Результат:\n",
    "#Владелец документа: Аристарх Павлов\n",
    "\n",
    "def get_doc_owner(doc_number):\n",
    "    for type in documents:\n",
    "        if type['number'] == doc_number:\n",
    "            return type['name']\n",
    "    return None\n",
    "            \n",
    "cmd_input = '';\n",
    "while cmd_input != 'q':\n",
    "    cmd_input = input('Введите команду:\\n')  \n",
    "    if cmd_input == 'p':\n",
    "        number_input = input ('Введите номер документа: \\n')\n",
    "        owner = get_doc_owner(number_input)\n",
    "        if (owner != None):\n",
    "            print('Владелец: ' + owner)\n",
    "        else: print('Владелец не найден')\n",
    "\n",
    "print('Bye-bye')\n",
    "\n"
   ]
  },
  {
   "cell_type": "code",
   "execution_count": null,
   "id": "3cbfeac4-ea44-47d4-8941-6ff3687fe0c5",
   "metadata": {},
   "outputs": [],
   "source": []
  },
  {
   "cell_type": "code",
   "execution_count": null,
   "id": "1b614566-3ab3-4cd0-ae93-ef1bbc7f747f",
   "metadata": {},
   "outputs": [],
   "source": []
  }
 ],
 "metadata": {
  "kernelspec": {
   "display_name": "Python [conda env:base] *",
   "language": "python",
   "name": "conda-base-py"
  },
  "language_info": {
   "codemirror_mode": {
    "name": "ipython",
    "version": 3
   },
   "file_extension": ".py",
   "mimetype": "text/x-python",
   "name": "python",
   "nbconvert_exporter": "python",
   "pygments_lexer": "ipython3",
   "version": "3.12.7"
  }
 },
 "nbformat": 4,
 "nbformat_minor": 5
}
